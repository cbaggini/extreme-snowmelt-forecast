{
 "cells": [
  {
   "cell_type": "code",
   "execution_count": null,
   "metadata": {},
   "outputs": [],
   "source": []
  },
  {
   "cell_type": "code",
   "execution_count": null,
   "metadata": {},
   "outputs": [],
   "source": [
    "# 1. Use best short-term minimal model and train it with complete dataset\n",
    "# 2. Increase parameters for all rows and use trained model to predict extreme snowmelt\n",
    "# 3. Separate analyses including only sites where variables are within the values of the training dataset and with all data"
   ]
  }
 ],
 "metadata": {
  "language_info": {
   "name": "python"
  },
  "orig_nbformat": 4
 },
 "nbformat": 4,
 "nbformat_minor": 2
}
