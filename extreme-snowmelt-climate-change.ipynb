{
 "cells": [
  {
   "cell_type": "markdown",
   "metadata": {},
   "source": [
    "# Predict extreme snowmelt events in climate change scenarios"
   ]
  },
  {
   "cell_type": "code",
   "execution_count": 1,
   "metadata": {},
   "outputs": [],
   "source": [
    "import pandas as pd\n",
    "import numpy as np\n",
    "import geopandas as gpd\n",
    "from collections import Counter\n",
    "import os\n",
    "\n",
    "from imblearn.under_sampling import NearMiss\n",
    "\n",
    "from sklearn.ensemble import RandomForestClassifier\n",
    "from sklearn.metrics import confusion_matrix, precision_recall_curve, auc\n",
    "from matplotlib import pyplot as plt\n",
    "import seaborn as sns\n"
   ]
  },
  {
   "cell_type": "code",
   "execution_count": 2,
   "metadata": {},
   "outputs": [],
   "source": [
    "from tsfresh import extract_features, extract_relevant_features, select_features\n",
    "from tsfresh.utilities.dataframe_functions import impute\n",
    "from tsfresh.feature_extraction.settings import MinimalFCParameters\n",
    "from tsfresh.utilities.dataframe_functions import roll_time_series\n"
   ]
  },
  {
   "cell_type": "markdown",
   "metadata": {},
   "source": [
    "### Train best model from previous analysis"
   ]
  },
  {
   "cell_type": "markdown",
   "metadata": {},
   "source": [
    "Model was the random forest model with precipitation data (['prec__sum_values', 'prec__median', 'prec__standard_deviation', 'prec__variance', 'prec__minimum'])\n",
    "Time window 2 days and prediction horizon 10 days. Time evaluation, minimal time series parameters and no year included.\n",
    "AUC-PR score 0.890"
   ]
  },
  {
   "cell_type": "code",
   "execution_count": 3,
   "metadata": {},
   "outputs": [
    {
     "name": "stderr",
     "output_type": "stream",
     "text": [
      "Rolling: 100%|██████████| 100/100 [00:38<00:00,  2.59it/s]\n",
      "Feature Extraction: 100%|██████████| 100/100 [01:00<00:00,  1.66it/s]\n"
     ]
    }
   ],
   "source": [
    "## Recreate rolled dataframe with minimal features and undersample it (2 days, time lag ten days)\n",
    "all_data_clean = pd.read_csv('../all_data_clean.csv')\n",
    "df_rolled = roll_time_series(\n",
    "    all_data_clean[['date', 'flow_site_id', 'prec', 'binary']], column_id=\"flow_site_id\", column_sort=\"date\", max_timeshift=2, min_timeshift=2 - 1, n_jobs=20)\n",
    "X_features_all = extract_features(\n",
    "\tdf_rolled.drop([\"binary\", \"flow_site_id\"], axis=1), column_id='id', column_sort='date',\n",
    "\tn_jobs=20, disable_progressbar=False, default_fc_parameters=MinimalFCParameters())\n"
   ]
  },
  {
   "cell_type": "code",
   "execution_count": 4,
   "metadata": {},
   "outputs": [
    {
     "data": {
      "text/plain": [
       "324674"
      ]
     },
     "execution_count": 4,
     "metadata": {},
     "output_type": "execute_result"
    }
   ],
   "source": [
    "len(df_rolled)"
   ]
  },
  {
   "cell_type": "code",
   "execution_count": 5,
   "metadata": {},
   "outputs": [
    {
     "data": {
      "text/html": [
       "<div>\n",
       "<style scoped>\n",
       "    .dataframe tbody tr th:only-of-type {\n",
       "        vertical-align: middle;\n",
       "    }\n",
       "\n",
       "    .dataframe tbody tr th {\n",
       "        vertical-align: top;\n",
       "    }\n",
       "\n",
       "    .dataframe thead th {\n",
       "        text-align: right;\n",
       "    }\n",
       "</style>\n",
       "<table border=\"1\" class=\"dataframe\">\n",
       "  <thead>\n",
       "    <tr style=\"text-align: right;\">\n",
       "      <th></th>\n",
       "      <th>prec__sum_values</th>\n",
       "      <th>prec__median</th>\n",
       "      <th>prec__mean</th>\n",
       "      <th>prec__length</th>\n",
       "      <th>prec__standard_deviation</th>\n",
       "      <th>prec__variance</th>\n",
       "      <th>prec__root_mean_square</th>\n",
       "      <th>prec__maximum</th>\n",
       "      <th>prec__minimum</th>\n",
       "      <th>unique_id</th>\n",
       "      <th>binary</th>\n",
       "    </tr>\n",
       "    <tr>\n",
       "      <th>unique_id</th>\n",
       "      <th></th>\n",
       "      <th></th>\n",
       "      <th></th>\n",
       "      <th></th>\n",
       "      <th></th>\n",
       "      <th></th>\n",
       "      <th></th>\n",
       "      <th></th>\n",
       "      <th></th>\n",
       "      <th></th>\n",
       "      <th></th>\n",
       "    </tr>\n",
       "  </thead>\n",
       "  <tbody>\n",
       "    <tr>\n",
       "      <th>(114.0, 1909-01-11)</th>\n",
       "      <td>0.2</td>\n",
       "      <td>0.0</td>\n",
       "      <td>0.066667</td>\n",
       "      <td>3.0</td>\n",
       "      <td>0.094281</td>\n",
       "      <td>0.008889</td>\n",
       "      <td>0.115470</td>\n",
       "      <td>0.2</td>\n",
       "      <td>0.0</td>\n",
       "      <td>(114.0, 1909-01-11)</td>\n",
       "      <td>0.0</td>\n",
       "    </tr>\n",
       "    <tr>\n",
       "      <th>(114.0, 1909-01-12)</th>\n",
       "      <td>0.4</td>\n",
       "      <td>0.2</td>\n",
       "      <td>0.133333</td>\n",
       "      <td>3.0</td>\n",
       "      <td>0.094281</td>\n",
       "      <td>0.008889</td>\n",
       "      <td>0.163299</td>\n",
       "      <td>0.2</td>\n",
       "      <td>0.0</td>\n",
       "      <td>(114.0, 1909-01-12)</td>\n",
       "      <td>0.0</td>\n",
       "    </tr>\n",
       "    <tr>\n",
       "      <th>(114.0, 1909-01-13)</th>\n",
       "      <td>0.4</td>\n",
       "      <td>0.2</td>\n",
       "      <td>0.133333</td>\n",
       "      <td>3.0</td>\n",
       "      <td>0.094281</td>\n",
       "      <td>0.008889</td>\n",
       "      <td>0.163299</td>\n",
       "      <td>0.2</td>\n",
       "      <td>0.0</td>\n",
       "      <td>(114.0, 1909-01-13)</td>\n",
       "      <td>0.0</td>\n",
       "    </tr>\n",
       "    <tr>\n",
       "      <th>(114.0, 1909-01-14)</th>\n",
       "      <td>0.7</td>\n",
       "      <td>0.2</td>\n",
       "      <td>0.233333</td>\n",
       "      <td>3.0</td>\n",
       "      <td>0.205480</td>\n",
       "      <td>0.042222</td>\n",
       "      <td>0.310913</td>\n",
       "      <td>0.5</td>\n",
       "      <td>0.0</td>\n",
       "      <td>(114.0, 1909-01-14)</td>\n",
       "      <td>0.0</td>\n",
       "    </tr>\n",
       "    <tr>\n",
       "      <th>(114.0, 1909-01-15)</th>\n",
       "      <td>2.4</td>\n",
       "      <td>0.5</td>\n",
       "      <td>0.800000</td>\n",
       "      <td>3.0</td>\n",
       "      <td>0.804156</td>\n",
       "      <td>0.646667</td>\n",
       "      <td>1.134313</td>\n",
       "      <td>1.9</td>\n",
       "      <td>0.0</td>\n",
       "      <td>(114.0, 1909-01-15)</td>\n",
       "      <td>0.0</td>\n",
       "    </tr>\n",
       "  </tbody>\n",
       "</table>\n",
       "</div>"
      ],
      "text/plain": [
       "                     prec__sum_values  prec__median  prec__mean  prec__length  \\\n",
       "unique_id                                                                       \n",
       "(114.0, 1909-01-11)               0.2           0.0    0.066667           3.0   \n",
       "(114.0, 1909-01-12)               0.4           0.2    0.133333           3.0   \n",
       "(114.0, 1909-01-13)               0.4           0.2    0.133333           3.0   \n",
       "(114.0, 1909-01-14)               0.7           0.2    0.233333           3.0   \n",
       "(114.0, 1909-01-15)               2.4           0.5    0.800000           3.0   \n",
       "\n",
       "                     prec__standard_deviation  prec__variance  \\\n",
       "unique_id                                                       \n",
       "(114.0, 1909-01-11)                  0.094281        0.008889   \n",
       "(114.0, 1909-01-12)                  0.094281        0.008889   \n",
       "(114.0, 1909-01-13)                  0.094281        0.008889   \n",
       "(114.0, 1909-01-14)                  0.205480        0.042222   \n",
       "(114.0, 1909-01-15)                  0.804156        0.646667   \n",
       "\n",
       "                     prec__root_mean_square  prec__maximum  prec__minimum  \\\n",
       "unique_id                                                                   \n",
       "(114.0, 1909-01-11)                0.115470            0.2            0.0   \n",
       "(114.0, 1909-01-12)                0.163299            0.2            0.0   \n",
       "(114.0, 1909-01-13)                0.163299            0.2            0.0   \n",
       "(114.0, 1909-01-14)                0.310913            0.5            0.0   \n",
       "(114.0, 1909-01-15)                1.134313            1.9            0.0   \n",
       "\n",
       "                               unique_id  binary  \n",
       "unique_id                                         \n",
       "(114.0, 1909-01-11)  (114.0, 1909-01-11)     0.0  \n",
       "(114.0, 1909-01-12)  (114.0, 1909-01-12)     0.0  \n",
       "(114.0, 1909-01-13)  (114.0, 1909-01-13)     0.0  \n",
       "(114.0, 1909-01-14)  (114.0, 1909-01-14)     0.0  \n",
       "(114.0, 1909-01-15)  (114.0, 1909-01-15)     0.0  "
      ]
     },
     "execution_count": 5,
     "metadata": {},
     "output_type": "execute_result"
    }
   ],
   "source": [
    "X_features_all['unique_id'] = X_features_all.index\n",
    "\n",
    "all_data_clean['shifted_date'] = pd.to_datetime(\n",
    "    all_data_clean.date) + pd.Timedelta(days=10)\n",
    "all_data_clean['shifted_date'] = all_data_clean['shifted_date'].dt.strftime(\n",
    "    '%Y-%m-%d')\n",
    "all_data_clean['unique_id'] = list(\n",
    "    zip(all_data_clean.flow_site_id, all_data_clean.shifted_date))\n",
    "all_data_clean = all_data_clean.dropna()\n",
    "\n",
    "X_features_all = X_features_all.reset_index(drop=True)\n",
    "\n",
    "X_features_all = pd.merge(X_features_all, all_data_clean[[\n",
    "                          'binary', 'unique_id']], how='left', on='unique_id')\n",
    "X_features_all = X_features_all.set_index(\n",
    "    X_features_all['unique_id'], drop=True)\n",
    "X_features_all = X_features_all.dropna()\n",
    "X_features_all.head()\n"
   ]
  },
  {
   "cell_type": "code",
   "execution_count": 6,
   "metadata": {},
   "outputs": [
    {
     "data": {
      "text/plain": [
       "Counter({0.0: 4688, 1.0: 4688})"
      ]
     },
     "execution_count": 6,
     "metadata": {},
     "output_type": "execute_result"
    }
   ],
   "source": [
    "## only keep 'prec__sum_values', 'prec__median', 'prec__standard_deviation', 'prec__variance', 'prec__minimum'\n",
    "y1 = X_features_all['binary']\n",
    "undersample = NearMiss(version=3, n_neighbors=3)\n",
    "X_under, y_under = undersample.fit_resample(X_features_all.drop(\n",
    "    columns=['binary', 'unique_id', 'prec__mean', 'prec__length', 'prec__root_mean_square', 'prec__maximum']), y1)\n",
    "X_under.index = X_features_all['unique_id'][undersample.sample_indices_]\n",
    "y_under.index = X_features_all['unique_id'][undersample.sample_indices_]\n",
    "Counter(y_under)\n"
   ]
  },
  {
   "cell_type": "code",
   "execution_count": 7,
   "metadata": {},
   "outputs": [
    {
     "data": {
      "text/plain": [
       "9376"
      ]
     },
     "execution_count": 7,
     "metadata": {},
     "output_type": "execute_result"
    }
   ],
   "source": [
    "## fit random forest model with parameters {'max_depth': 5, 'max_features': 2, 'n_estimators': 1500}\n",
    "\n",
    "clf = RandomForestClassifier(max_depth= 5, max_features=2, n_estimators=1500, n_jobs=-1, random_state=42, verbose=0)\n",
    "clf.fit(X_under, y_under)\n",
    "present_all = clf.predict(X_under)\n",
    "len(present_all)\n"
   ]
  },
  {
   "cell_type": "markdown",
   "metadata": {},
   "source": [
    "### Look at feature importance and values"
   ]
  },
  {
   "cell_type": "code",
   "execution_count": 8,
   "metadata": {},
   "outputs": [
    {
     "data": {
      "text/plain": [
       "(array([0, 1, 2, 3, 4]),\n",
       " [Text(0, 0, 'prec__sum_values'),\n",
       "  Text(1, 0, 'prec__median'),\n",
       "  Text(2, 0, 'prec__standard_deviation'),\n",
       "  Text(3, 0, 'prec__variance'),\n",
       "  Text(4, 0, 'prec__minimum')])"
      ]
     },
     "execution_count": 8,
     "metadata": {},
     "output_type": "execute_result"
    },
    {
     "data": {
      "image/png": "[encoded data removed]",
      "text/plain": [
       "<Figure size 720x432 with 1 Axes>"
      ]
     },
     "metadata": {
      "needs_background": "light"
     },
     "output_type": "display_data"
    }
   ],
   "source": [
    "## check feature importance\n",
    "\n",
    "importances = clf.feature_importances_\n",
    "forest_importances = pd.Series(importances, index=X_under.columns)\n",
    "\n",
    "std = np.std([tree.feature_importances_ for tree in clf.estimators_], axis=0)\n",
    "\n",
    "plt.figure(figsize=(10, 6))\n",
    "forest_importances.plot.bar(yerr=std)\n",
    "plt.xlabel('Feature name')\n",
    "plt.ylabel('Feature importance')\n",
    "plt.xticks(rotation=60)"
   ]
  },
  {
   "cell_type": "code",
   "execution_count": 9,
   "metadata": {},
   "outputs": [
    {
     "data": {
      "text/plain": [
       "[Text(0.5, 0, 'Extreme snowmelt'), Text(0, 0.5, 'Median precipitation (mm)')]"
      ]
     },
     "execution_count": 9,
     "metadata": {},
     "output_type": "execute_result"
    },
    {
     "data": {
      "image/png": "[encoded data removed]",
      "text/plain": [
       "<Figure size 432x288 with 1 Axes>"
      ]
     },
     "metadata": {
      "needs_background": "light"
     },
     "output_type": "display_data"
    }
   ],
   "source": [
    "all_under = pd.concat([X_under, pd.DataFrame(y_under)], axis=1)\n",
    "dict_map = {0.0: 'No', 1.0: 'Yes'}\n",
    "all_under['binary'] = all_under['binary'].map(dict_map)\n",
    "g = sns.boxplot(x=\"binary\", y=\"prec__median\", data=all_under)\n",
    "g.set(xlabel='Extreme snowmelt', ylabel='Median precipitation (mm)')\n"
   ]
  },
  {
   "cell_type": "code",
   "execution_count": 10,
   "metadata": {},
   "outputs": [
    {
     "data": {
      "text/plain": [
       "[Text(0.5, 0, 'Extreme snowmelt'), Text(0, 0.5, 'Total precipitation (mm)')]"
      ]
     },
     "execution_count": 10,
     "metadata": {},
     "output_type": "execute_result"
    },
    {
     "data": {
      "image/png": "[encoded data removed]",
      "text/plain": [
       "<Figure size 432x288 with 1 Axes>"
      ]
     },
     "metadata": {
      "needs_background": "light"
     },
     "output_type": "display_data"
    }
   ],
   "source": [
    "g = sns.boxplot(x=\"binary\", y=\"prec__sum_values\", data=all_under)\n",
    "g.set(xlabel='Extreme snowmelt', ylabel='Total precipitation (mm)')"
   ]
  },
  {
   "cell_type": "code",
   "execution_count": 11,
   "metadata": {},
   "outputs": [
    {
     "data": {
      "text/plain": [
       "[Text(0.5, 0, 'Extreme snowmelt'),\n",
       " Text(0, 0.5, 'Standard deviation of precipitation (mm)')]"
      ]
     },
     "execution_count": 11,
     "metadata": {},
     "output_type": "execute_result"
    },
    {
     "data": {
      "image/png": "[encoded data removed]",
      "text/plain": [
       "<Figure size 432x288 with 1 Axes>"
      ]
     },
     "metadata": {
      "needs_background": "light"
     },
     "output_type": "display_data"
    }
   ],
   "source": [
    "g = sns.boxplot(x=\"binary\", y=\"prec__standard_deviation\", data=all_under)\n",
    "g.set(xlabel='Extreme snowmelt', ylabel='Standard deviation of precipitation (mm)')"
   ]
  },
  {
   "cell_type": "code",
   "execution_count": 12,
   "metadata": {},
   "outputs": [
    {
     "data": {
      "text/plain": [
       "[Text(0.5, 0, 'Extreme snowmelt'),\n",
       " Text(0, 0.5, 'Variance of precipitation (mm)')]"
      ]
     },
     "execution_count": 12,
     "metadata": {},
     "output_type": "execute_result"
    },
    {
     "data": {
      "image/png": "[encoded data removed]",
      "text/plain": [
       "<Figure size 432x288 with 1 Axes>"
      ]
     },
     "metadata": {
      "needs_background": "light"
     },
     "output_type": "display_data"
    }
   ],
   "source": [
    "g = sns.boxplot(x=\"binary\", y=\"prec__variance\", data=all_under)\n",
    "g.set(xlabel='Extreme snowmelt', ylabel='Variance of precipitation (mm)')"
   ]
  },
  {
   "cell_type": "code",
   "execution_count": 13,
   "metadata": {},
   "outputs": [
    {
     "data": {
      "text/plain": [
       "[Text(0.5, 0, 'Extreme snowmelt'), Text(0, 0.5, 'Minimum precipitation (mm)')]"
      ]
     },
     "execution_count": 13,
     "metadata": {},
     "output_type": "execute_result"
    },
    {
     "data": {
      "image/png": "[encoded data removed]",
      "text/plain": [
       "<Figure size 432x288 with 1 Axes>"
      ]
     },
     "metadata": {
      "needs_background": "light"
     },
     "output_type": "display_data"
    }
   ],
   "source": [
    "g = sns.boxplot(x=\"binary\", y=\"prec__minimum\", data=all_under)\n",
    "g.set(xlabel='Extreme snowmelt', ylabel='Minimum precipitation (mm)')"
   ]
  },
  {
   "cell_type": "markdown",
   "metadata": {},
   "source": [
    "### When does the model work well? When does it not?"
   ]
  },
  {
   "cell_type": "code",
   "execution_count": 14,
   "metadata": {},
   "outputs": [],
   "source": [
    "def auc_pr_score(y_true, y_pred):\n",
    "\tprecision, recall, _ = precision_recall_curve(y_true, y_pred)\n",
    "\treturn auc(recall, precision)\n"
   ]
  },
  {
   "cell_type": "code",
   "execution_count": 15,
   "metadata": {},
   "outputs": [
    {
     "name": "stdout",
     "output_type": "stream",
     "text": [
      "[[4498  190]\n",
      " [1879 2809]]\n",
      "0.8681201292068915\n",
      "Model error is:  13.19 %\n"
     ]
    }
   ],
   "source": [
    "print(confusion_matrix(y_under, present_all))\n",
    "print(auc_pr_score(y_under, present_all))\n",
    "model_error = round((1 - auc_pr_score(y_under, present_all)) * 100, 2)\n",
    "print('Model error is: ', model_error, '%')\n"
   ]
  },
  {
   "cell_type": "code",
   "execution_count": 16,
   "metadata": {},
   "outputs": [],
   "source": [
    "present = pd.DataFrame(present_all)\n",
    "present.columns = ['prediction']\n",
    "present.index = X_under.index\n",
    "all_pred = pd.concat([all_under, present], axis=1)\n",
    "dict_map_2 = {'No': 0.0, 'Yes': 1.0}\n",
    "all_pred['binary'] = all_pred['binary'].map(dict_map_2)\n",
    "all_pred['classification_short'] = all_pred['binary'].astype(str) + all_pred['prediction'].astype(str)\n",
    "value_dict = {'0.00.0': 'true negatives', '0.01.0': 'false positives', '1.00.0': 'false negatives', '1.01.0': 'true positives'}\n",
    "all_pred['classification'] = all_pred['classification_short'].map(value_dict)\n"
   ]
  },
  {
   "cell_type": "code",
   "execution_count": 17,
   "metadata": {},
   "outputs": [
    {
     "data": {
      "text/plain": [
       "[Text(0.5, 0, 'Classification'), Text(0, 0.5, 'Median precipitation (mm)')]"
      ]
     },
     "execution_count": 17,
     "metadata": {},
     "output_type": "execute_result"
    },
    {
     "data": {
      "image/png": "[encoded data removed]",
      "text/plain": [
       "<Figure size 432x288 with 1 Axes>"
      ]
     },
     "metadata": {
      "needs_background": "light"
     },
     "output_type": "display_data"
    }
   ],
   "source": [
    "\n",
    "g = sns.boxplot(x=\"classification\", y=\"prec__median\", data=all_pred)\n",
    "g.set(xlabel='Classification', ylabel='Median precipitation (mm)')\n"
   ]
  },
  {
   "cell_type": "code",
   "execution_count": 18,
   "metadata": {},
   "outputs": [
    {
     "data": {
      "text/plain": [
       "[Text(0.5, 0, 'Classification'), Text(0, 0.5, 'Total precipitation (mm)')]"
      ]
     },
     "execution_count": 18,
     "metadata": {},
     "output_type": "execute_result"
    },
    {
     "data": {
      "image/png": "[encoded data removed]",
      "text/plain": [
       "<Figure size 432x288 with 1 Axes>"
      ]
     },
     "metadata": {
      "needs_background": "light"
     },
     "output_type": "display_data"
    }
   ],
   "source": [
    "g = sns.boxplot(x=\"classification\", y=\"prec__sum_values\", data=all_pred)\n",
    "g.set(xlabel='Classification', ylabel='Total precipitation (mm)')"
   ]
  },
  {
   "cell_type": "code",
   "execution_count": 19,
   "metadata": {},
   "outputs": [
    {
     "data": {
      "text/plain": [
       "[Text(0.5, 0, 'Classification'),\n",
       " Text(0, 0.5, 'Standard deviation of precipitation (mm)')]"
      ]
     },
     "execution_count": 19,
     "metadata": {},
     "output_type": "execute_result"
    },
    {
     "data": {
      "image/png": "[encoded data removed]",
      "text/plain": [
       "<Figure size 432x288 with 1 Axes>"
      ]
     },
     "metadata": {
      "needs_background": "light"
     },
     "output_type": "display_data"
    }
   ],
   "source": [
    "g = sns.boxplot(x=\"classification\", y=\"prec__standard_deviation\", data=all_pred)\n",
    "g.set(xlabel='Classification', ylabel='Standard deviation of precipitation (mm)')"
   ]
  },
  {
   "cell_type": "code",
   "execution_count": 20,
   "metadata": {},
   "outputs": [
    {
     "data": {
      "text/plain": [
       "[Text(0.5, 0, 'Classification'),\n",
       " Text(0, 0.5, 'Variance of precipitation (mm)')]"
      ]
     },
     "execution_count": 20,
     "metadata": {},
     "output_type": "execute_result"
    },
    {
     "data": {
      "image/png": "[encoded data removed]",
      "text/plain": [
       "<Figure size 432x288 with 1 Axes>"
      ]
     },
     "metadata": {
      "needs_background": "light"
     },
     "output_type": "display_data"
    }
   ],
   "source": [
    "g = sns.boxplot(x=\"classification\", y=\"prec__variance\", data=all_pred)\n",
    "g.set(xlabel='Classification', ylabel='Variance of precipitation (mm)')"
   ]
  },
  {
   "cell_type": "code",
   "execution_count": 21,
   "metadata": {},
   "outputs": [
    {
     "data": {
      "text/plain": [
       "[Text(0.5, 0, 'Classification'), Text(0, 0.5, 'Minimum precipitation (mm)')]"
      ]
     },
     "execution_count": 21,
     "metadata": {},
     "output_type": "execute_result"
    },
    {
     "data": {
      "image/png": "[encoded data removed]",
      "text/plain": [
       "<Figure size 432x288 with 1 Axes>"
      ]
     },
     "metadata": {
      "needs_background": "light"
     },
     "output_type": "display_data"
    }
   ],
   "source": [
    "g = sns.boxplot(x=\"classification\", y=\"prec__minimum\", data=all_pred)\n",
    "g.set(xlabel='Classification', ylabel='Minimum precipitation (mm)')"
   ]
  },
  {
   "cell_type": "markdown",
   "metadata": {},
   "source": [
    "### Create scenario data and predict extreme snowmelt for those"
   ]
  },
  {
   "cell_type": "code",
   "execution_count": 22,
   "metadata": {},
   "outputs": [],
   "source": [
    "# get all scenario files and produce one dataframe with site id and scenario columns\n",
    "\n",
    "files = [file for file in os.listdir('../prec_monthly/') if file.startswith('joined')]\n",
    "files_26 = [file for file in files if '26' in file]\n",
    "files_45 = [file for file in files if '45' in file]\n",
    "files_85 = [file for file in files if '85' in file]\n",
    "\n",
    "ranges_26 = pd.DataFrame(columns=['site_id', 'range', 'month'])\n",
    "for file in files_26:\n",
    "\tmonth = file.split('_')[-3]\n",
    "\tdf = gpd.read_file('../prec_monthly/' + file)[['site_id', 'range']]\n",
    "\tdf['month'] = month\n",
    "\tdf['site_id'] = df['site_id'].astype(int)\n",
    "\tranges_26 = pd.concat([ranges_26, df])\n",
    "\n",
    "ranges_45 = pd.DataFrame(columns=['site_id', 'range', 'month'])\n",
    "for file in files_45:\n",
    "\tmonth = file.split('_')[-3]\n",
    "\tdf = gpd.read_file('../prec_monthly/' + file)[['site_id', 'range']]\n",
    "\tdf['month'] = month\n",
    "\tdf['site_id'] = df['site_id'].astype(int)\n",
    "\tranges_45 = pd.concat([ranges_45, df])\n",
    "\n",
    "ranges_85 = pd.DataFrame(columns=['site_id', 'range', 'month'])\n",
    "for file in files_85:\n",
    "\tmonth = file.split('_')[-3]\n",
    "\tdf = gpd.read_file('../prec_monthly/' + file)[['site_id', 'range']]\n",
    "\tdf['month'] = month\n",
    "\tdf['site_id'] = df['site_id'].astype(int)\n",
    "\tranges_85 = pd.concat([ranges_85, df])\n",
    "\n"
   ]
  },
  {
   "cell_type": "code",
   "execution_count": 23,
   "metadata": {},
   "outputs": [],
   "source": [
    "def get_scenario_ranges(ranges):\n",
    "\tX_features_all_new = pd.merge(X_under, ranges, how='left', on=['site_id', 'month'])\n",
    "\tX_features_all_new.index = X_under.index\n",
    "\tX_features_all_new.dropna(inplace=True)\n",
    "\tX_features_all_new['prec__sum_values'] = X_features_all_new['prec__sum_values'] + \\\n",
    "\t\t(X_features_all_new['prec__sum_values'] * X_features_all_new['range'] / 100)\n",
    "\tX_features_all_new['prec__median'] = X_features_all_new['prec__median'] + \\\n",
    "\t\t(X_features_all_new['prec__median'] * X_features_all_new['range'] / 100)\n",
    "\tX_features_all_new['prec__minimum'] = X_features_all_new['prec__minimum'] + \\\n",
    "\t\t(X_features_all_new['prec__minimum'] * X_features_all_new['range'] / 100)\n",
    "\treturn X_features_all_new\n"
   ]
  },
  {
   "cell_type": "code",
   "execution_count": 24,
   "metadata": {},
   "outputs": [],
   "source": [
    "# modify X_features_all multiplying by range and select relevant columns\n",
    "X_under[['site_id', 'date']] = X_under.index.to_list()\n",
    "X_under['month'] = pd.to_datetime(X_under.date).dt.strftime('%b')\n",
    "X_under['month'] = X_under['month'].str.upper()\n",
    "\n",
    "X_under_26 = get_scenario_ranges(ranges_26)\n",
    "X_under_45 = get_scenario_ranges(ranges_45)\n",
    "X_under_85 = get_scenario_ranges(ranges_85)\n"
   ]
  },
  {
   "cell_type": "code",
   "execution_count": 25,
   "metadata": {},
   "outputs": [],
   "source": [
    "rcp26_all = clf.predict(X_under_26.drop(columns=['site_id', 'date', 'month', 'range']))\n",
    "rcp45_all = clf.predict(X_under_45.drop(columns=['site_id', 'date', 'month', 'range']))\n",
    "rcp85_all = clf.predict(X_under_85.drop(columns=['site_id', 'date', 'month', 'range']))"
   ]
  },
  {
   "cell_type": "code",
   "execution_count": 26,
   "metadata": {},
   "outputs": [
    {
     "name": "stdout",
     "output_type": "stream",
     "text": [
      "Present:0.3198592150170648\n",
      "RCP26:0.31517847455788217\n",
      "RCP45:0.3093197352717804\n",
      "RCP85:0.3017250732342411\n",
      "RCP26 percent change:-1.4633752099131896\n",
      "RCP45 percent change:-3.2950370820869166\n",
      "RCP85 percent change:-5.669413583052865\n"
     ]
    }
   ],
   "source": [
    "present_all_ratio = Counter(present_all)[1.0]/len(present_all)\n",
    "rcp26_all_ratio = Counter(rcp26_all)[1.0]/len(rcp26_all)\n",
    "rcp45_all_ratio = Counter(rcp45_all)[1.0]/len(rcp45_all)\n",
    "rcp85_all_ratio = Counter(rcp85_all)[1.0]/len(rcp85_all)\n",
    "\n",
    "print('Present:' + str(present_all_ratio))\n",
    "print('RCP26:' + str(rcp26_all_ratio))\n",
    "print('RCP45:' + str(rcp45_all_ratio))\n",
    "print('RCP85:' + str(rcp85_all_ratio))\n",
    "\n",
    "print('RCP26 percent change:' + str((rcp26_all_ratio - present_all_ratio) / present_all_ratio * 100))\n",
    "print('RCP45 percent change:' + str((rcp45_all_ratio - present_all_ratio) / present_all_ratio * 100))\n",
    "print('RCP85 percent change:' + str((rcp85_all_ratio - present_all_ratio) / present_all_ratio * 100))"
   ]
  },
  {
   "cell_type": "code",
   "execution_count": 27,
   "metadata": {},
   "outputs": [
    {
     "name": "stdout",
     "output_type": "stream",
     "text": [
      "The maximum change in extreme snowmelt frequency ( -5.67 %) is lower than model error ( 13.19 %)\n"
     ]
    }
   ],
   "source": [
    "print('The maximum change in extreme snowmelt frequency (', round((rcp85_all_ratio - present_all_ratio) / present_all_ratio * 100, 2), \n",
    "'%) is lower than model error (', model_error, '%)')\n"
   ]
  },
  {
   "cell_type": "markdown",
   "metadata": {},
   "source": [
    "### Remove data outside training range and predict again"
   ]
  },
  {
   "cell_type": "code",
   "execution_count": 28,
   "metadata": {},
   "outputs": [],
   "source": [
    "## calculate value ranges for original training data and remove scenario data that is not within the range\n",
    "max_sum_values = X_under['prec__sum_values'].max()\n",
    "max_median = X_under['prec__median'].max()\n",
    "max_minimum = X_under['prec__minimum'].max()\n",
    "\n",
    "to_keep = X_under_85[(X_under_85['prec__sum_values'] <= max_sum_values) & (X_under_85['prec__median'] <= max_median) & (X_under_85['prec__minimum'] <= max_minimum)]\n",
    "X_present_clean = X_under[X_under.index.isin(to_keep.index)]\n",
    "X_rcp26_clean = X_under_26[X_under_26.index.isin(to_keep.index)]\n",
    "X_rcp45_clean = X_under_45[X_under_45.index.isin(to_keep.index)]\n",
    "X_rcp85_clean = X_under_85[X_under_85.index.isin(to_keep.index)]\n",
    "\n",
    "## predict extreme snowmelt with reduced data\n",
    "\n",
    "present_clean = clf.predict(X_present_clean.drop(columns=['site_id', 'date', 'month']))\n",
    "rcp26_clean = clf.predict(X_rcp26_clean.drop(columns=['site_id', 'date', 'month', 'range']))\n",
    "rcp45_clean = clf.predict(X_rcp45_clean.drop(columns=['site_id', 'date', 'month', 'range']))\n",
    "rcp85_clean = clf.predict(X_rcp85_clean.drop(columns=['site_id', 'date', 'month', 'range']))\n"
   ]
  },
  {
   "cell_type": "code",
   "execution_count": 29,
   "metadata": {},
   "outputs": [
    {
     "name": "stdout",
     "output_type": "stream",
     "text": [
      "Present clean:0.3218940052128584\n",
      "RCP26 clean:0.31548653344917466\n",
      "RCP45 clean:0.309622067767159\n",
      "RCP85 clean:0.30201998262380536\n",
      "RCP26 clean percent change:-1.9905533063427714\n",
      "RCP45 clean percent change:-3.8124156545209127\n",
      "RCP85 clean percent change:-6.174089068825918\n"
     ]
    }
   ],
   "source": [
    "present_clean_ratio = Counter(present_clean)[1.0]/len(present_clean)\n",
    "rcp26_clean_ratio = Counter(rcp26_clean)[1.0]/len(rcp26_clean)\n",
    "rcp45_clean_ratio = Counter(rcp45_clean)[1.0]/len(rcp45_clean)\n",
    "rcp85_clean_ratio = Counter(rcp85_clean)[1.0]/len(rcp85_clean)\n",
    "\n",
    "print('Present clean:' + str(present_clean_ratio))\n",
    "print('RCP26 clean:' + str(rcp26_clean_ratio))\n",
    "print('RCP45 clean:' + str(rcp45_clean_ratio))\n",
    "print('RCP85 clean:' + str(rcp85_clean_ratio))\n",
    "\n",
    "print('RCP26 clean percent change:' + str((rcp26_clean_ratio - present_clean_ratio) / present_clean_ratio * 100))\n",
    "print('RCP45 clean percent change:' + str((rcp45_clean_ratio - present_clean_ratio) / present_clean_ratio * 100))\n",
    "print('RCP85 clean percent change:' + str((rcp85_clean_ratio - present_clean_ratio) / present_clean_ratio * 100))"
   ]
  },
  {
   "cell_type": "code",
   "execution_count": 30,
   "metadata": {},
   "outputs": [
    {
     "name": "stdout",
     "output_type": "stream",
     "text": [
      "The maximum change in extreme snowmelt frequency ( -6.17 %) is lower than model error ( 13.19 %)\n"
     ]
    }
   ],
   "source": [
    "print('The maximum change in extreme snowmelt frequency (', round(\n",
    "    (rcp85_clean_ratio - present_clean_ratio) / present_clean_ratio * 100, 2),\n",
    "      '%) is lower than model error (', model_error, '%)')\n"
   ]
  }
 ],
 "metadata": {
  "interpreter": {
   "hash": "916dbcbb3f70747c44a77c7bcd40155683ae19c65e1c03b4aa3499c5328201f1"
  },
  "kernelspec": {
   "display_name": "Python 3.8.10 64-bit",
   "language": "python",
   "name": "python3"
  },
  "language_info": {
   "codemirror_mode": {
    "name": "ipython",
    "version": 3
   },
   "file_extension": ".py",
   "mimetype": "text/x-python",
   "name": "python",
   "nbconvert_exporter": "python",
   "pygments_lexer": "ipython3",
   "version": "3.8.10"
  },
  "orig_nbformat": 4
 },
 "nbformat": 4,
 "nbformat_minor": 2
}
