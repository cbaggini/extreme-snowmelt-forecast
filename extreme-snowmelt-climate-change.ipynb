{
 "cells": [
  {
   "cell_type": "code",
   "execution_count": null,
   "metadata": {},
   "outputs": [],
   "source": []
  },
  {
   "cell_type": "code",
   "execution_count": null,
   "metadata": {},
   "outputs": [],
   "source": [
    "# 1. Use best short-term minimal model (for time prediction? prefer models with less parameters if v close scores) and train it with complete dataset\n",
    "# 2. Increase parameters for all rows and use trained model to predict extreme snowmelt\n",
    "# 3. Separate analyses including only sites where variables are within the values of the training dataset and with all data\n",
    "# 4. also need some robustness checks - look at different flow model outputs and see how consistent they are"
   ]
  }
 ],
 "metadata": {
  "language_info": {
   "name": "python"
  },
  "orig_nbformat": 4
 },
 "nbformat": 4,
 "nbformat_minor": 2
}
